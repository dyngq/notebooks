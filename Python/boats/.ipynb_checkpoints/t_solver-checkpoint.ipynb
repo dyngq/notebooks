{
 "cells": [
  {
   "cell_type": "code",
   "execution_count": 56,
   "metadata": {},
   "outputs": [],
   "source": [
    "import numpy as np\n",
    "import math"
   ]
  },
  {
   "cell_type": "code",
   "execution_count": 57,
   "metadata": {},
   "outputs": [
    {
     "name": "stdout",
     "output_type": "stream",
     "text": [
      "[-6 -9] [-2  3]\n"
     ]
    }
   ],
   "source": [
    "a = np.random.randint(-30,30,[2])\n",
    "b = np.random.randint(-30,30,[2])\n",
    "\n",
    "print(a,b)"
   ]
  },
  {
   "cell_type": "code",
   "execution_count": 58,
   "metadata": {},
   "outputs": [],
   "source": [
    "arc = 0.2\n",
    "v = 5"
   ]
  },
  {
   "cell_type": "code",
   "execution_count": 60,
   "metadata": {},
   "outputs": [
    {
     "name": "stdout",
     "output_type": "stream",
     "text": [
      "136.27257771878172 136.27257771878172\n"
     ]
    },
    {
     "data": {
      "text/plain": [
       "0.08979680471601437"
      ]
     },
     "execution_count": 60,
     "metadata": {},
     "output_type": "execute_result"
    }
   ],
   "source": [
    "def get_t(a,b,arc1,v):\n",
    "    dis = math.sqrt((b[0]-a[0])**2+(b[1]-a[1])**2)\n",
    "    b1 = dis*arc\n",
    "#     b2 = dis*arc2\n",
    "    \n",
    "    b2 = math.sqrt(dis**2-b1**2)\n",
    "#     temp = 0.08979680471601437\n",
    "#     print((b2-v*temp)**2-b1**2, 130**2*temp**2)\n",
    "    \n",
    "    t1 = (b2*v-math.sqrt(b2**2*v**2-(v**2-130**2)*(b2**2-b1**2)))/(v**2-130**2)\n",
    "#     t2 = (b2*v+math.sqrt(b2**2*v**2-(v**2-130**2)*(b2**2-b1**2)))/(v**2-130**2)\n",
    "    \n",
    "#     print(t1,t2)\n",
    "    \n",
    "#     return t1 if t1 > 0 else t2\n",
    "\n",
    "    return t1\n",
    "\n",
    "get_t(a,b,arc,v)"
   ]
  },
  {
   "cell_type": "code",
   "execution_count": null,
   "metadata": {},
   "outputs": [],
   "source": []
  }
 ],
 "metadata": {
  "kernelspec": {
   "display_name": "dyngq",
   "language": "python",
   "name": "dyngq"
  },
  "language_info": {
   "codemirror_mode": {
    "name": "ipython",
    "version": 3
   },
   "file_extension": ".py",
   "mimetype": "text/x-python",
   "name": "python",
   "nbconvert_exporter": "python",
   "pygments_lexer": "ipython3",
   "version": "3.6.8"
  }
 },
 "nbformat": 4,
 "nbformat_minor": 2
}
