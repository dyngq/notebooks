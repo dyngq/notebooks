{
 "cells": [
  {
   "cell_type": "code",
   "execution_count": 2,
   "metadata": {},
   "outputs": [
    {
     "name": "stdout",
     "output_type": "stream",
     "text": [
      "                 0                                           1     2     3\n",
      "0             冠状病毒                               coronavirus\\n  None  None\n",
      "1               肺炎                                 pneumonia\\n  None  None\n",
      "2            病毒性肺炎                           viral pneumonia\\n  None  None\n",
      "3           不明原因肺炎       pneumonia of unknown etiology/cause\\n  None  None\n",
      "4    严重急性呼吸综合征（非典）  severe acute respiratory syndrome (SARS)\\n  None  None\n",
      "..             ...                                         ...   ...   ...\n",
      "175           医学观察        medical watch; medical observation\\n  None  None\n",
      "176           病毒分离                           virus isolation\\n  None  None\n",
      "177           抗病毒药                            antiviral drug\\n  None  None\n",
      "178            退烧药                    febrifuge; antipyretic\\n  None  None\n",
      "179                                                             None  None\n",
      "\n",
      "[180 rows x 4 columns]\n"
     ]
    }
   ],
   "source": [
    "import csv\n",
    "import pandas as pd\n",
    "from pandas.core.frame import DataFrame\n",
    "\n",
    "with open('kang_2.txt','r+') as f:\n",
    "#     with open('nie.txt',\"w\") as ff:\n",
    "    ff = pd.read_excel('nie.xlsx')\n",
    "    list_e = []\n",
    "    for i in f:\n",
    "#         print(type(i))\n",
    "        space = i.find(' ')\n",
    "#         print(space)\n",
    "        i = list(i)\n",
    "        i[space] = ','\n",
    "#         print(''.join(i))\n",
    "#         ff.writelines(''.join(i))\n",
    "        temp = ''.join(i)\n",
    "        temp = temp.split(',')\n",
    "#         print(temp)\n",
    "        list_e.append(temp)\n",
    "\n",
    "    data=DataFrame(list_e)\n",
    "    print(data)\n",
    "    data.to_excel('nie_2.xlsx', sheet_name='Sheet1', index=False, header=False)"
   ]
  }
 ],
 "metadata": {
  "kernelspec": {
   "display_name": "dyngq",
   "language": "python",
   "name": "dyngq"
  },
  "language_info": {
   "codemirror_mode": {
    "name": "ipython",
    "version": 3
   },
   "file_extension": ".py",
   "mimetype": "text/x-python",
   "name": "python",
   "nbconvert_exporter": "python",
   "pygments_lexer": "ipython3",
   "version": "3.6.8"
  }
 },
 "nbformat": 4,
 "nbformat_minor": 2
}
