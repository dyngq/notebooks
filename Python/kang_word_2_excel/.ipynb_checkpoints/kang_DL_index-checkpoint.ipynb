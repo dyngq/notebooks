{
 "cells": [
  {
   "cell_type": "code",
   "execution_count": 67,
   "metadata": {},
   "outputs": [
    {
     "name": "stdout",
     "output_type": "stream",
     "text": [
      "           0                                1     2\n",
      "0      绝对值整流  absolute value rectification \\n  None\n",
      "1        准确率                      accuracy \\n  None\n",
      "2         声学                      acoustic \\n  None\n",
      "3       激活函数           activation function \\n  None\n",
      "4    AdaGrad                       AdaGrad \\n  None\n",
      "..       ...                              ...   ...\n",
      "852      词嵌入                 word embedding\\n  None\n",
      "853     词义消歧     word-sense disambiguation \\n  None\n",
      "854    零数据学习            zero-data learning \\n  None\n",
      "855     零次学习            zero-shot learning \\n  None\n",
      "856                                            None\n",
      "\n",
      "[857 rows x 3 columns]\n"
     ]
    }
   ],
   "source": [
    "import csv\n",
    "import pandas as pd\n",
    "from pandas.core.frame import DataFrame\n",
    "\n",
    "with open('kang.txt','r+',encoding='UTF-8') as f:\n",
    "#     with open('nie.txt',\"w\") as ff:\n",
    "    ff = pd.read_excel('nie.xlsx')\n",
    "    list_e = []\n",
    "    for i in f:\n",
    "#         print(type(i))\n",
    "        space = i.find(' ')\n",
    "#         print(space)\n",
    "        i = list(i)\n",
    "        i[space] = ','\n",
    "#         print(''.join(i))\n",
    "#         ff.writelines(''.join(i))\n",
    "        temp = ''.join(i)\n",
    "        temp = temp.split(',')\n",
    "#         print(temp)\n",
    "        list_e.append(temp)\n",
    "\n",
    "    data=DataFrame(list_e)\n",
    "    print(data)\n",
    "    data.to_excel('nie.xlsx', sheet_name='Sheet1', index=False, header=False)"
   ]
  },
  {
   "cell_type": "code",
   "execution_count": null,
   "metadata": {},
   "outputs": [],
   "source": []
  }
 ],
 "metadata": {
  "kernelspec": {
   "display_name": "dyngq",
   "language": "python",
   "name": "dyngq"
  },
  "language_info": {
   "codemirror_mode": {
    "name": "ipython",
    "version": 3
   },
   "file_extension": ".py",
   "mimetype": "text/x-python",
   "name": "python",
   "nbconvert_exporter": "python",
   "pygments_lexer": "ipython3",
   "version": "3.6.8"
  }
 },
 "nbformat": 4,
 "nbformat_minor": 2
}
