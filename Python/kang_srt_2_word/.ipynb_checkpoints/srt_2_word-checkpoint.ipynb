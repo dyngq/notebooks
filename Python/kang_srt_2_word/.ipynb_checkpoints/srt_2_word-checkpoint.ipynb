{
 "cells": [
  {
   "cell_type": "code",
   "execution_count": 13,
   "metadata": {
    "scrolled": false
   },
   "outputs": [],
   "source": [
    "import re\n",
    "with open('dyngq_kang_2.txt','r') as d:\n",
    "    dl = d.readlines()\n",
    "    with open('kang_dyngq_2.txt','w') as k:\n",
    "        for i in dl:\n",
    "            if i[0] != '0':\n",
    "                i = i.replace('-','')\n",
    "                i = i.replace('<i>','')\n",
    "                k.write(i)\n",
    "        "
   ]
  }
 ],
 "metadata": {
  "kernelspec": {
   "display_name": "dyngq",
   "language": "python",
   "name": "dyngq"
  },
  "language_info": {
   "codemirror_mode": {
    "name": "ipython",
    "version": 3
   },
   "file_extension": ".py",
   "mimetype": "text/x-python",
   "name": "python",
   "nbconvert_exporter": "python",
   "pygments_lexer": "ipython3",
   "version": "3.6.8"
  }
 },
 "nbformat": 4,
 "nbformat_minor": 2
}
