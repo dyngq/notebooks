{
 "cells": [
  {
   "cell_type": "code",
   "execution_count": 1,
   "metadata": {},
   "outputs": [],
   "source": [
    "import torch\n",
    "import torch.nn as nn\n",
    "from torch.autograd import Variable\n",
    "import torch.distributed as dist\n",
    "import torch.utils.data as data_utils\n",
    "\n",
    "\n",
    "class Net(nn.Module):\n",
    "    def __init__(self, n_input, n_hidden, n_output):\n",
    "\n",
    "        super(Net, self).__init__()\n",
    "        self.hidden1 = nn.Linear(n_input, n_hidden)\n",
    "        self.hidden2 = nn.Linear(n_hidden, n_hidden)\n",
    "\n",
    "        self.predict1 = nn.Linear(n_hidden*2, n_output)\n",
    "        self.predict2 = nn.Linear(n_hidden*2, n_output)\n",
    "\n",
    "    def forward(self, input1, input2): # 多输入！！！\n",
    "        out01 = self.hidden1(input1)\n",
    "        out02 = torch.relu(out01)\n",
    "        out03 = self.hidden2(out02)\n",
    "        out04 = torch.sigmoid(out03)\n",
    "\n",
    "        out11 = self.hidden1(input2)\n",
    "        out12 = torch.relu(out11)\n",
    "        out13 = self.hidden2(out12)\n",
    "        out14 = torch.sigmoid(out13)\n",
    "\n",
    "        out = torch.cat((out04, out14), dim=1) # 模型层拼合！！！当然你的模型中可能不需要~\n",
    " \n",
    "        out1 = self.predict1(out)\n",
    "        out2 = self.predict2(out)\n",
    "\n",
    "        return out1, out2 # 多输出！！！\n",
    "\n",
    "\n",
    "net = Net(1, 20, 1)\n",
    "\n",
    "\n",
    "x1 = torch.unsqueeze(torch.linspace(-1, 1, 100), dim=1) # 请不要关心这里，随便弄一个数据，为了说明问题而已\n",
    "y1 = x1.pow(3)+0.1*torch.randn(x1.size())\n",
    "\n",
    "x2 = torch.unsqueeze(torch.linspace(-1, 1, 100), dim=1)\n",
    "y2 = x2.pow(3)+0.1*torch.randn(x2.size())\n",
    "\n",
    "x1, y1 = (Variable(x1), Variable(y1))\n",
    "x2, y2 = (Variable(x2), Variable(y2))\n",
    "\n",
    "optimizer = torch.optim.SGD(net.parameters(), lr=0.1)\n",
    "loss_func = torch.nn.MSELoss()"
   ]
  },
  {
   "cell_type": "code",
   "execution_count": 2,
   "metadata": {
    "scrolled": true
   },
   "outputs": [
    {
     "name": "stdout",
     "output_type": "stream",
     "text": [
      "Loss1 = 0.1572 Loss2 = 0.2354\n",
      "Loss1 = 0.0385 Loss2 = 0.0331\n",
      "Loss1 = 0.0376 Loss2 = 0.0320\n",
      "Loss1 = 0.0370 Loss2 = 0.0314\n",
      "Loss1 = 0.0365 Loss2 = 0.0308\n",
      "Loss1 = 0.0359 Loss2 = 0.0302\n",
      "Loss1 = 0.0353 Loss2 = 0.0296\n",
      "Loss1 = 0.0347 Loss2 = 0.0290\n",
      "Loss1 = 0.0341 Loss2 = 0.0284\n",
      "Loss1 = 0.0335 Loss2 = 0.0278\n",
      "Loss1 = 0.0330 Loss2 = 0.0272\n",
      "Loss1 = 0.0324 Loss2 = 0.0267\n",
      "Loss1 = 0.0319 Loss2 = 0.0261\n",
      "Loss1 = 0.0314 Loss2 = 0.0256\n",
      "Loss1 = 0.0622 Loss2 = 0.0622\n",
      "Loss1 = 0.0301 Loss2 = 0.0245\n",
      "Loss1 = 0.0291 Loss2 = 0.0236\n",
      "Loss1 = 0.0277 Loss2 = 0.0225\n",
      "Loss1 = 0.0309 Loss2 = 0.0267\n",
      "Loss1 = 0.0251 Loss2 = 0.0204\n",
      "Loss1 = 0.0232 Loss2 = 0.0190\n",
      "Loss1 = 0.0683 Loss2 = 0.0689\n",
      "Loss1 = 0.0202 Loss2 = 0.0167\n",
      "Loss1 = 0.0201 Loss2 = 0.0173\n",
      "Loss1 = 0.0175 Loss2 = 0.0150\n",
      "Loss1 = 0.0204 Loss2 = 0.0184\n",
      "Loss1 = 0.0157 Loss2 = 0.0138\n",
      "Loss1 = 0.0327 Loss2 = 0.0309\n",
      "Loss1 = 0.0145 Loss2 = 0.0130\n",
      "Loss1 = 0.0385 Loss2 = 0.0361\n",
      "Loss1 = 0.0140 Loss2 = 0.0125\n",
      "Loss1 = 0.0192 Loss2 = 0.0175\n",
      "Loss1 = 0.0140 Loss2 = 0.0126\n",
      "Loss1 = 0.0160 Loss2 = 0.0145\n",
      "Loss1 = 0.0146 Loss2 = 0.0132\n",
      "Loss1 = 0.0143 Loss2 = 0.0130\n",
      "Loss1 = 0.0142 Loss2 = 0.0129\n",
      "Loss1 = 0.0143 Loss2 = 0.0131\n",
      "Loss1 = 0.0133 Loss2 = 0.0122\n",
      "Loss1 = 0.0149 Loss2 = 0.0136\n",
      "Loss1 = 0.0127 Loss2 = 0.0117\n",
      "Loss1 = 0.0147 Loss2 = 0.0135\n",
      "Loss1 = 0.0128 Loss2 = 0.0118\n",
      "Loss1 = 0.0126 Loss2 = 0.0116\n",
      "Loss1 = 0.0136 Loss2 = 0.0125\n",
      "Loss1 = 0.0127 Loss2 = 0.0117\n",
      "Loss1 = 0.0123 Loss2 = 0.0114\n",
      "Loss1 = 0.0125 Loss2 = 0.0116\n",
      "Loss1 = 0.0127 Loss2 = 0.0118\n",
      "Loss1 = 0.0123 Loss2 = 0.0115\n"
     ]
    }
   ],
   "source": [
    "for t in range(5000):\n",
    "    prediction1, prediction2 = net(x1, x2)\n",
    "    loss1 = loss_func(prediction1, y1)\n",
    "    loss2 = loss_func(prediction2, y2)\n",
    "    loss = loss1 + loss2 # 重点！\n",
    "\n",
    "    optimizer.zero_grad()\n",
    "    loss.backward()\n",
    "    optimizer.step()\n",
    "\n",
    "#     if t % 100 == 0:\n",
    "#         print('Loss1 = %.4f' % loss1.data,'Loss2 = %.4f' % loss2.data,)"
   ]
  },
  {
   "cell_type": "code",
   "execution_count": null,
   "metadata": {},
   "outputs": [],
   "source": []
  },
  {
   "cell_type": "code",
   "execution_count": 88,
   "metadata": {},
   "outputs": [
    {
     "name": "stdout",
     "output_type": "stream",
     "text": [
      "FLModel(\n",
      "  (conv1): Conv2d(1, 6, kernel_size=(2, 2), stride=(1, 1))\n",
      "  (conv2): Conv2d(6, 16, kernel_size=(2, 2), stride=(1, 1))\n",
      "  (fc1): Linear(in_features=16, out_features=120, bias=True)\n",
      "  (fc2): Linear(in_features=120, out_features=84, bias=True)\n",
      "  (fc3): Linear(in_features=84, out_features=14, bias=True)\n",
      ")\n",
      "10\n",
      "torch.Size([6, 1, 2, 2])\n",
      "tensor([[-2.6457, -2.7180, -2.6952,  ..., -2.5762, -2.6698, -2.6415],\n",
      "        [-2.6242, -2.6836, -2.6679,  ..., -2.5679, -2.6864, -2.6482],\n",
      "        [-2.6299, -2.6830, -2.6731,  ..., -2.5654, -2.6906, -2.6618],\n",
      "        ...,\n",
      "        [-2.6286, -2.6972, -2.6643,  ..., -2.5779, -2.6780, -2.6510],\n",
      "        [-2.6307, -2.7015, -2.6931,  ..., -2.5712, -2.6843, -2.6566],\n",
      "        [-2.6327, -2.7043, -2.6622,  ..., -2.5577, -2.6874, -2.6625]],\n",
      "       grad_fn=<LogSoftmaxBackward>)\n"
     ]
    }
   ],
   "source": [
    "import torch\n",
    "import torch.nn as nn\n",
    "import torch.nn.functional as F\n",
    "\n",
    "\n",
    "class FLModel(nn.Module):\n",
    "    def __init__(self):\n",
    "        super(FLModel, self).__init__()\n",
    "        # 26.定义①的卷积层，输入为32x32的图像，卷积核大小5x5卷积核种类6\n",
    "        self.conv1 = nn.Conv2d(1, 6, 2)\n",
    "        # 27.定义③的卷积层，输入为前一层6个特征，卷积核大小5x5，卷积核种类16\n",
    "        self.conv2 = nn.Conv2d(6, 16, 2)\n",
    "        # 28.定义⑤的全链接层，输入为16*5*5，输出为120\n",
    "        self.fc1 = nn.Linear(16, 120)  # 6*6 from image dimension\n",
    "        # 29.定义⑥的全连接层，输入为120，输出为84\n",
    "        self.fc2 = nn.Linear(120, 84)\n",
    "        # 30.定义⑥的全连接层，输入为84，输出为10\n",
    "        self.fc3 = nn.Linear(84, 14)\n",
    "    def forward(self, x):\n",
    "        t3 = torch.zeros(256,2)\n",
    "        #print(x.size(),t3.size())\n",
    "        x = torch.cat((x, t3), 1)\n",
    "        x = x.view(256,1,9,9)\n",
    "        # 31.完成input-S2，先卷积+relu，再2x2下采样\n",
    "        x = F.max_pool2d(F.relu(self.conv1(x)), (2, 2))\n",
    "        # 32.完成S2-S4，先卷积+relu，再2x2下采样\n",
    "        x = F.max_pool2d(F.relu(self.conv2(x)), 2) #卷积核方形时，可以只写一个维度\n",
    "        # 33.将特征向量扁平成行向量\n",
    "        x = x.view(-1, 16)\n",
    "        # 34.使用fc1+relu\n",
    "        x = F.relu(self.fc1(x))\n",
    "        # 35.使用fc2+relu\n",
    "        x = F.relu(self.fc2(x))\n",
    "        # 36.使用fc3\n",
    "        x = self.fc3(x)\n",
    "#         return x\n",
    "        output = F.log_softmax(x, dim=1)\n",
    "        return output\n",
    "\n",
    "\n",
    "net = FLModel()\n",
    "print(net)\n",
    "\n",
    "import numpy as np\n",
    "# 打印网络的参数\n",
    "params = list(net.parameters())\n",
    "# print(params)\n",
    "print(len(params))\n",
    "# 打印某一层参数的形状\n",
    "print(params[0].size())\n",
    "\n",
    "#随机输入一个向量，查看前向传播输出\n",
    "input = torch.randn(256,79)\n",
    "# input = np.expand_dims(input, axis=2)\n",
    "# print((input))\n",
    "out = net(input)\n",
    "print(out)"
   ]
  },
  {
   "cell_type": "code",
   "execution_count": 99,
   "metadata": {},
   "outputs": [
    {
     "data": {
      "text/plain": [
       "tensor([[-1.1486,  1.4084, -0.2635,  ..., -0.4677,  0.0000,  0.0000],\n",
       "        [-0.0549, -1.0925, -1.6236,  ...,  0.1509,  0.0000,  0.0000],\n",
       "        [-1.4069, -1.4782,  0.8286,  ...,  0.4287,  0.0000,  0.0000],\n",
       "        ...,\n",
       "        [-0.2381, -0.6959, -0.6199,  ...,  2.3516,  0.0000,  0.0000],\n",
       "        [ 1.2532,  0.6781, -1.8472,  ..., -1.1791,  0.0000,  0.0000],\n",
       "        [-0.2224, -0.3319,  0.8432,  ...,  1.4974,  0.0000,  0.0000]])"
      ]
     },
     "execution_count": 99,
     "metadata": {},
     "output_type": "execute_result"
    }
   ],
   "source": [
    "x = torch.randn(64,79)\n",
    "t3 = torch.zeros(256,2)\n",
    "t4 = torch.zeros(64,2)\n",
    "t5 = torch.zeros(x.size()[0],2)\n",
    "x = torch.cat((x, t5), 1)\n",
    "#print(x.size(),t3.size())\n",
    "# try:\n",
    "#     x = torch.cat((x, t3), 1)\n",
    "# except:\n",
    "#     x = torch.cat((x, t4), 1)\n",
    "x"
   ]
  },
  {
   "cell_type": "code",
   "execution_count": 28,
   "metadata": {},
   "outputs": [
    {
     "data": {
      "text/plain": [
       "44.0"
      ]
     },
     "execution_count": 28,
     "metadata": {},
     "output_type": "execute_result"
    }
   ],
   "source": [
    "5632/128"
   ]
  },
  {
   "cell_type": "code",
   "execution_count": 52,
   "metadata": {},
   "outputs": [
    {
     "data": {
      "text/plain": [
       "1024"
      ]
     },
     "execution_count": 52,
     "metadata": {},
     "output_type": "execute_result"
    }
   ],
   "source": [
    "32*32"
   ]
  },
  {
   "cell_type": "code",
   "execution_count": 8,
   "metadata": {},
   "outputs": [
    {
     "data": {
      "text/plain": [
       "1024"
      ]
     },
     "execution_count": 8,
     "metadata": {},
     "output_type": "execute_result"
    }
   ],
   "source": [
    "64*4*4"
   ]
  },
  {
   "cell_type": "code",
   "execution_count": 58,
   "metadata": {},
   "outputs": [
    {
     "name": "stdout",
     "output_type": "stream",
     "text": [
      "t1: tensor([3, 4, 5], dtype=torch.int32)\n",
      "------------------------\n",
      "t2: tensor([0, 0, 0], dtype=torch.int32)\n",
      "------------------------\n",
      "t3: tensor([0., 0.])\n",
      "------------------------\n",
      "t4: tensor([1., 1., 1.])\n",
      "tensor([1., 1., 1., 0., 0.])\n"
     ]
    }
   ],
   "source": [
    "import numpy as np\n",
    "import torch\n",
    "\n",
    "a = np.array([3, 4, 5])\n",
    "b = np.array([0, 0, 0])\n",
    "\n",
    "t1 = torch.from_numpy(a)\n",
    "t2 = torch.from_numpy(b)\n",
    "t3 = torch.zeros(2)\n",
    "t4 = torch.ones(3)\n",
    "print('t1:', t1)\n",
    "print('------------------------')\n",
    "print('t2:', t2)\n",
    "print('------------------------')\n",
    "print('t3:', t3)\n",
    "print('------------------------')\n",
    "print('t4:', t4)\n",
    "\n",
    "res = torch.cat((t4, t3), 0)\n",
    "print(res)"
   ]
  },
  {
   "cell_type": "code",
   "execution_count": 90,
   "metadata": {},
   "outputs": [
    {
     "data": {
      "text/plain": [
       "4.521739130434782"
      ]
     },
     "execution_count": 90,
     "metadata": {},
     "output_type": "execute_result"
    }
   ],
   "source": [
    "208/46"
   ]
  },
  {
   "cell_type": "code",
   "execution_count": 110,
   "metadata": {},
   "outputs": [
    {
     "data": {
      "text/plain": [
       "array([170, 124,  46, 141,  18, 112, 173, 162, 151,  62,  24, 170, 121,\n",
       "        36, 105, 235,  98, 143, 163, 229, 163, 107, 137, 163, 141, 177,\n",
       "       179, 158, 123, 143, 133, 175, 126, 132, 218, 116, 149,  10,  14,\n",
       "        12, 126, 187, 149,  87, 119, 171, 217,  90, 106, 237,  79, 181,\n",
       "       177,  93, 165, 240, 205, 145,  86,  73,  35, 210, 222, 221,  60,\n",
       "       142, 135, 212, 215,  24,  43, 199, 129, 242, 246, 194,   6, 151,\n",
       "        75])"
      ]
     },
     "execution_count": 110,
     "metadata": {},
     "output_type": "execute_result"
    }
   ],
   "source": [
    "import numpy as np\n",
    "\n",
    "a = np.random.randint(0,255,[79])\n",
    "\n",
    "a"
   ]
  },
  {
   "cell_type": "code",
   "execution_count": 111,
   "metadata": {},
   "outputs": [
    {
     "data": {
      "text/plain": [
       "array([ 0.53403124, -0.19091068, -1.42016002,  0.07700264, -1.86142902,\n",
       "       -0.38002596,  0.58131006,  0.40795438,  0.23459871, -1.16800631,\n",
       "       -1.76687138,  0.53403124, -0.2381895 , -1.57775609, -0.49034321,\n",
       "        1.55840569, -0.60066046,  0.10852185,  0.42371399,  1.46384805,\n",
       "        0.42371399, -0.458824  ,  0.01396421,  0.42371399,  0.07700264,\n",
       "        0.64434849,  0.6758677 ,  0.34491595, -0.20667029,  0.10852185,\n",
       "       -0.04907422,  0.61282927, -0.15939147, -0.06483383,  1.29049237,\n",
       "       -0.31698754,  0.20307949, -1.98750587, -1.92446744, -1.95598666,\n",
       "       -0.15939147,  0.80194456,  0.20307949, -0.77401614, -0.26970872,\n",
       "        0.54979084,  1.27473276, -0.72673732, -0.47458361,  1.5899249 ,\n",
       "       -0.90009299,  0.70738691,  0.64434849, -0.6794585 ,  0.4552332 ,\n",
       "        1.63720372,  1.08561748,  0.14004106, -0.78977575, -0.99465064,\n",
       "       -1.5935157 ,  1.16441552,  1.3535308 ,  1.33777119, -1.19952553,\n",
       "        0.09276224, -0.01755501,  1.19593473,  1.24321355, -1.76687138,\n",
       "       -1.46743884,  0.99105984, -0.11211265,  1.66872294,  1.73176137,\n",
       "        0.9122618 , -2.0505443 ,  0.23459871, -0.96313142])"
      ]
     },
     "execution_count": 111,
     "metadata": {},
     "output_type": "execute_result"
    }
   ],
   "source": [
    "def standardization(data):\n",
    "    mu = np.mean(data, axis=0)\n",
    "    sigma = np.std(data, axis=0)\n",
    "    return (data - mu) / sigma\n",
    "\n",
    "b = standardization(a)\n",
    "b"
   ]
  }
 ],
 "metadata": {
  "kernelspec": {
   "display_name": "dyngq",
   "language": "python",
   "name": "dyngq"
  },
  "language_info": {
   "codemirror_mode": {
    "name": "ipython",
    "version": 3
   },
   "file_extension": ".py",
   "mimetype": "text/x-python",
   "name": "python",
   "nbconvert_exporter": "python",
   "pygments_lexer": "ipython3",
   "version": "3.6.8"
  }
 },
 "nbformat": 4,
 "nbformat_minor": 2
}
