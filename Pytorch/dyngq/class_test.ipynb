{
 "cells": [
  {
   "cell_type": "code",
   "execution_count": 1,
   "metadata": {},
   "outputs": [
    {
     "name": "stdout",
     "output_type": "stream",
     "text": [
      "i can be called like a function\n"
     ]
    }
   ],
   "source": [
    "class A():\n",
    "    def __call__(self):\n",
    "        print('i can be called like a function')\n",
    " \n",
    "a = A()\n",
    "a()"
   ]
  },
  {
   "cell_type": "code",
   "execution_count": 23,
   "metadata": {},
   "outputs": [
    {
     "name": "stdout",
     "output_type": "stream",
     "text": [
      "[[[1, 1, 1], [2, 2, 2]], [[1, 1, 1], [2, 2, 2]], [[1, 1, 1], [2, 2, 2]]] \n",
      " [[[1, 1, 1], [2, 2, 2]], [[1, 1, 1], [2, 2, 2]], [[1, 1, 1], [2, 2, 2]]]\n",
      "<class 'torch.Tensor'>\n",
      "tensor([[[1, 1, 1],\n",
      "         [2, 2, 2]],\n",
      "\n",
      "        [[1, 1, 1],\n",
      "         [2, 2, 2]],\n",
      "\n",
      "        [[1, 1, 1],\n",
      "         [2, 2, 2]]]) \n",
      " tensor([[[1, 1, 1],\n",
      "         [2, 2, 2]],\n",
      "\n",
      "        [[1, 1, 1],\n",
      "         [2, 2, 2]],\n",
      "\n",
      "        [[1, 1, 1],\n",
      "         [2, 2, 2]]])\n"
     ]
    }
   ],
   "source": [
    "a = [[[1,1,1],[2,2,2]],[[1,1,1],[2,2,2]],[[1,1,1],[2,2,2]]]\n",
    "b = a.copy()\n",
    "print(b,'\\n',a)\n",
    "a = torch.tensor(a)\n",
    "b = torch.tensor(b)\n",
    "print(type(a))\n",
    "print(b,'\\n',a)"
   ]
  },
  {
   "cell_type": "code",
   "execution_count": 25,
   "metadata": {},
   "outputs": [
    {
     "data": {
      "text/plain": [
       "tensor([[[1, 1, 1, 1, 1, 1],\n",
       "         [2, 2, 2, 2, 2, 2]],\n",
       "\n",
       "        [[1, 1, 1, 1, 1, 1],\n",
       "         [2, 2, 2, 2, 2, 2]],\n",
       "\n",
       "        [[1, 1, 1, 1, 1, 1],\n",
       "         [2, 2, 2, 2, 2, 2]]])"
      ]
     },
     "execution_count": 25,
     "metadata": {},
     "output_type": "execute_result"
    }
   ],
   "source": [
    "import torch\n",
    "torch.cat((a,b), dim=2) "
   ]
  }
 ],
 "metadata": {
  "kernelspec": {
   "display_name": "Python 3",
   "language": "python",
   "name": "python3"
  },
  "language_info": {
   "codemirror_mode": {
    "name": "ipython",
    "version": 3
   },
   "file_extension": ".py",
   "mimetype": "text/x-python",
   "name": "python",
   "nbconvert_exporter": "python",
   "pygments_lexer": "ipython3",
   "version": "3.6.8"
  }
 },
 "nbformat": 4,
 "nbformat_minor": 2
}
