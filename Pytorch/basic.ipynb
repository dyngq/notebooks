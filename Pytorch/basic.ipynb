{
 "nbformat": 4,
 "nbformat_minor": 2,
 "metadata": {
  "language_info": {
   "name": "python",
   "codemirror_mode": {
    "name": "ipython",
    "version": 3
   },
   "version": "3.6.8"
  },
  "orig_nbformat": 2,
  "file_extension": ".py",
  "mimetype": "text/x-python",
  "name": "python",
  "npconvert_exporter": "python",
  "pygments_lexer": "ipython3",
  "version": 3
 },
 "cells": [
  {
   "cell_type": "markdown",
   "execution_count": null,
   "metadata": {},
   "outputs": [],
   "source": [
    "# pytorch 基本操作"
   ]
  },
  {
   "cell_type": "markdown",
   "execution_count": null,
   "metadata": {},
   "outputs": [],
   "source": [
    "## 基本运算"
   ]
  },
  {
   "cell_type": "code",
   "execution_count": 1,
   "metadata": {},
   "outputs": [
    {
     "name": "stdout",
     "output_type": "stream",
     "text": "tensor([[8.9082e-39, 1.0194e-38, 9.1837e-39],\n        [4.6837e-39, 9.2755e-39, 1.0837e-38],\n        [8.4490e-39, 1.1112e-38, 9.4592e-39],\n        [8.4490e-39, 9.6429e-39, 8.4490e-39],\n        [9.6429e-39, 9.2755e-39, 1.0286e-38]])\ntensor([[0.7755, 0.5150, 0.1687],\n        [0.2082, 0.8452, 0.7375],\n        [0.7558, 0.1747, 0.1556],\n        [0.9120, 0.7691, 0.9522],\n        [0.4263, 0.5051, 0.8955]])\ntensor([[0, 0, 0],\n        [0, 0, 0],\n        [0, 0, 0],\n        [0, 0, 0],\n        [0, 0, 0]])\n"
    }
   ],
   "source": [
    "import torch\n",
    "x = torch.empty(5, 3)\n",
    "print(x)\n",
    "\n",
    "x = torch.rand(5, 3)\n",
    "print(x)\n",
    "\n",
    "x = torch.zeros(5, 3, dtype=torch.long)\n",
    "print(x)"
   ]
  },
  {
   "cell_type": "code",
   "execution_count": 2,
   "metadata": {},
   "outputs": [
    {
     "name": "stdout",
     "output_type": "stream",
     "text": "tensor([5.5000, 3.0000])\ntensor([[1., 1., 1.],\n        [1., 1., 1.],\n        [1., 1., 1.],\n        [1., 1., 1.],\n        [1., 1., 1.]], dtype=torch.float64)\ntensor([[ 0.7131,  1.3377, -0.3636],\n        [ 0.9037, -0.1996,  0.4074],\n        [ 0.6950,  0.6657, -0.5387],\n        [ 0.9411, -0.4678, -0.1665],\n        [ 1.9600, -0.0802,  1.4722]])\ntorch.Size([5, 3])\ntorch.Size([5, 3])\n"
    }
   ],
   "source": [
    "x = torch.tensor([5.5, 3])\n",
    "print(x)\n",
    "\n",
    "# 返回的tensor默认具有相同的torch.dtype和torch.device\n",
    "x = x.new_ones(5, 3, dtype=torch.float64)  \n",
    "print(x)\n",
    "\n",
    "# 指定新的数据类型 (改变数据类型，size相同，数据变为随机值)\n",
    "x = torch.randn_like(x, dtype=torch.float) \n",
    "print(x) \n",
    "\n",
    "print(x.size())\n",
    "print(x.shape)"
   ]
  },
  {
   "cell_type": "code",
   "execution_count": 7,
   "metadata": {},
   "outputs": [
    {
     "name": "stdout",
     "output_type": "stream",
     "text": "tensor([[ 0.7131,  1.3377, -0.3636],\n        [ 0.9037, -0.1996,  0.4074],\n        [ 0.6950,  0.6657, -0.5387],\n        [ 0.9411, -0.4678, -0.1665],\n        [ 1.9600, -0.0802,  1.4722]]) tensor([[0.3286, 0.1477, 0.8456],\n        [0.9581, 0.1946, 0.3133],\n        [0.6281, 0.7076, 0.8745],\n        [0.9048, 0.1309, 0.9229],\n        [0.3110, 0.1187, 0.3409]])\ntensor([[ 1.0417,  1.4854,  0.4820],\n        [ 1.8618, -0.0049,  0.7207],\n        [ 1.3231,  1.3733,  0.3358],\n        [ 1.8458, -0.3370,  0.7564],\n        [ 2.2710,  0.0386,  1.8131]])\ntensor([[ 1.0417,  1.4854,  0.4820],\n        [ 1.8618, -0.0049,  0.7207],\n        [ 1.3231,  1.3733,  0.3358],\n        [ 1.8458, -0.3370,  0.7564],\n        [ 2.2710,  0.0386,  1.8131]])\ntensor([[ 1.0417,  1.4854,  0.4820],\n        [ 1.8618, -0.0049,  0.7207],\n        [ 1.3231,  1.3733,  0.3358],\n        [ 1.8458, -0.3370,  0.7564],\n        [ 2.2710,  0.0386,  1.8131]])\ntensor([[ 1.0417,  1.4854,  0.4820],\n        [ 1.8618, -0.0049,  0.7207],\n        [ 1.3231,  1.3733,  0.3358],\n        [ 1.8458, -0.3370,  0.7564],\n        [ 2.2710,  0.0386,  1.8131]])\ntensor([[ 1.0417,  1.8618,  1.3231,  1.8458,  2.2710],\n        [ 1.4854, -0.0049,  1.3733, -0.3370,  0.0386],\n        [ 0.4820,  0.7207,  0.3358,  0.7564,  1.8131]])\n"
    }
   ],
   "source": [
    "y = torch.rand(5, 3)\n",
    "print(x,y)\n",
    "\n",
    "# 三种加法操作\n",
    "\n",
    "print(x + y)\n",
    "\n",
    "print(torch.add(x, y))\n",
    "\n",
    "# 指定输出\n",
    "result = torch.empty(5, 3)\n",
    "torch.add(x, y, out=result)\n",
    "print(result)\n",
    "\n",
    "# 加法形式三、inplace (注意 后缀_ )\n",
    "y.add_(x)\n",
    "print(y)\n",
    "print(y.t_()) # 转置\n",
    "\n"
   ]
  },
  {
   "cell_type": "markdown",
   "execution_count": null,
   "metadata": {},
   "outputs": [],
   "source": [
    "函数 | 功能\n",
    ":-: | :-:\n",
    "Tensor(*sizes) | 基础构造函数\n",
    "tensor(data,) | 类似np.array的构造函数\n",
    "ones(*sizes) | 全1Tensor\n",
    "zeros(*sizes) | 全0Tensor\n",
    "eye(*sizes) | 对角线为1，其他为0\n",
    "arange(s,e,step) | 从s到e，步长为step\n",
    "linspace(s,e,steps) | 从s到e，均匀切分成steps份\n",
    "rand/randn(*sizes) | 均匀/标准分布\n",
    "normal(mean,std)/uniform(from,to) | 正态分布/均匀分布\n",
    "randperm(m) | 随机排列"
   ]
  },
  {
   "cell_type": "markdown",
   "execution_count": null,
   "metadata": {},
   "outputs": [],
   "source": [
    "## 索引\n",
    "\n",
    "我们还可以使用类似NumPy的索引操作来访问Tensor的一部分，需要注意的是：**索引出来的结果与原数据共享内存，也即修改一个，另一个会跟着修改。**"
   ]
  },
  {
   "cell_type": "code",
   "execution_count": 58,
   "metadata": {},
   "outputs": [
    {
     "name": "stdout",
     "output_type": "stream",
     "text": "tensor([50.7131, 51.3377, 49.6364])\ntensor([[50.7131, 51.3377, 49.6364],\n        [ 0.9037, -0.1996,  0.4074],\n        [ 0.6950,  0.6657, -0.5387],\n        [ 0.9411, -0.4678, -0.1665],\n        [ 1.9600, -0.0802,  1.4722]])\n"
    }
   ],
   "source": [
    "y = x[0, :]\n",
    "y += 1\n",
    "print(y)\n",
    "print(x) # 源tensor也被改了 这一点特别重要"
   ]
  },
  {
   "cell_type": "markdown",
   "execution_count": null,
   "metadata": {},
   "outputs": [],
   "source": [
    "函数 | 功能\n",
    ":-: | :-:\n",
    "index_select(input, dim, index) | 在指定维度dim上选取，比如选取某些行、某些列\n",
    "masked_select(input, mask) | 例子如上，a\\[a>0] ，使用ByteTensor进行选取\n",
    "nonzero(input) | 非0元素的下标\n",
    "gather(input, dim, index) | 根据index，在dim维度上选取数据，输出的size与index一样"
   ]
  },
  {
   "cell_type": "markdown",
   "execution_count": null,
   "metadata": {},
   "outputs": [],
   "source": [
    "## 改变形状\n",
    "\n",
    "用view()来改变Tensor的形状："
   ]
  },
  {
   "cell_type": "code",
   "execution_count": 65,
   "metadata": {},
   "outputs": [
    {
     "name": "stdout",
     "output_type": "stream",
     "text": "torch.Size([5, 3]) torch.Size([15]) torch.Size([3, 5])\n"
    }
   ],
   "source": [
    "y = x.view(15)\n",
    "z = x.view(-1, 5)  # -1所指的维度可以根据其他维度的值推出来\n",
    "print(x.size(), y.size(), z.size())\n",
    "# print(z)"
   ]
  },
  {
   "cell_type": "code",
   "execution_count": null,
   "metadata": {},
   "outputs": [],
   "source": []
  },
  {
   "cell_type": "code",
   "execution_count": null,
   "metadata": {},
   "outputs": [],
   "source": []
  },
  {
   "cell_type": "code",
   "execution_count": null,
   "metadata": {},
   "outputs": [],
   "source": []
  },
  {
   "cell_type": "code",
   "execution_count": null,
   "metadata": {},
   "outputs": [],
   "source": []
  },
  {
   "cell_type": "code",
   "execution_count": null,
   "metadata": {},
   "outputs": [],
   "source": []
  },
  {
   "cell_type": "code",
   "execution_count": null,
   "metadata": {},
   "outputs": [],
   "source": []
  },
  {
   "cell_type": "code",
   "execution_count": null,
   "metadata": {},
   "outputs": [],
   "source": []
  },
  {
   "cell_type": "code",
   "execution_count": null,
   "metadata": {},
   "outputs": [],
   "source": []
  },
  {
   "cell_type": "code",
   "execution_count": null,
   "metadata": {},
   "outputs": [],
   "source": []
  },
  {
   "cell_type": "code",
   "execution_count": null,
   "metadata": {},
   "outputs": [],
   "source": []
  },
  {
   "cell_type": "code",
   "execution_count": null,
   "metadata": {},
   "outputs": [],
   "source": []
  },
  {
   "cell_type": "code",
   "execution_count": null,
   "metadata": {},
   "outputs": [],
   "source": []
  }
 ]
}